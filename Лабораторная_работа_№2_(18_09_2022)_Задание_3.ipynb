{
  "nbformat": 4,
  "nbformat_minor": 0,
  "metadata": {
    "colab": {
      "provenance": [],
      "authorship_tag": "ABX9TyNScEJSZ/Ct3kMJn2uDf82w",
      "include_colab_link": true
    },
    "kernelspec": {
      "name": "python3",
      "display_name": "Python 3"
    },
    "language_info": {
      "name": "python"
    }
  },
  "cells": [
    {
      "cell_type": "markdown",
      "metadata": {
        "id": "view-in-github",
        "colab_type": "text"
      },
      "source": [
        "<a href=\"https://colab.research.google.com/github/zhouzhenhua0809/MAI-python-1-course/blob/main/%D0%9B%D0%B0%D0%B1%D0%BE%D1%80%D0%B0%D1%82%D0%BE%D1%80%D0%BD%D0%B0%D1%8F_%D1%80%D0%B0%D0%B1%D0%BE%D1%82%D0%B0_%E2%84%962_(18_09_2022)_%D0%97%D0%B0%D0%B4%D0%B0%D0%BD%D0%B8%D0%B5_3.ipynb\" target=\"_parent\"><img src=\"https://colab.research.google.com/assets/colab-badge.svg\" alt=\"Open In Colab\"/></a>"
      ]
    },
    {
      "cell_type": "markdown",
      "source": [
        "a=int(input('a='))\n",
        "b=int(input('b='))\n",
        "if a<b:\n",
        "   print('a<b')\n",
        "elif a>b:\n",
        "   print('a>b')\n",
        "else:\n",
        "#   print('a=b')"
      ],
      "metadata": {
        "id": "bcBgT7GzoHmq"
      }
    },
    {
      "cell_type": "code",
      "source": [
        "a=int(input('a='))\n",
        "b=int(input('b='))\n",
        "c=int(input('c='))\n",
        "if a<b<c:\n",
        "  print('c')\n",
        "elif c<b<a:\n",
        "  print('a')\n",
        "elif c<a<b:\n",
        "  print('b')"
      ],
      "metadata": {
        "colab": {
          "base_uri": "https://localhost:8080/"
        },
        "id": "91vQycG8pNRR",
        "outputId": "824668e6-47ac-41ca-c8ec-5d0a3f9c9e10"
      },
      "execution_count": 18,
      "outputs": [
        {
          "output_type": "stream",
          "name": "stdout",
          "text": [
            "a=55\n",
            "b=66\n",
            "c=77\n",
            "c\n"
          ]
        }
      ]
    },
    {
      "cell_type": "code",
      "source": [
        "a=23\n",
        "b=13"
      ],
      "metadata": {
        "id": "sSNAXurRpGCh"
      },
      "execution_count": 8,
      "outputs": []
    }
  ]
}